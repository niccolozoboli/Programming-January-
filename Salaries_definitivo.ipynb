{
 "cells": [
  {
   "cell_type": "code",
   "execution_count": 12,
   "metadata": {},
   "outputs": [],
   "source": [
    "import pandas as pd\n",
    "import numpy as np\n",
    "import matplotlib as plt"
   ]
  },
  {
   "cell_type": "code",
   "execution_count": 14,
   "metadata": {},
   "outputs": [
    {
     "ename": "AttributeError",
     "evalue": "module 'pandas' has no attribute 'read'",
     "output_type": "error",
     "traceback": [
      "\u001b[0;31m---------------------------------------------------------------------------\u001b[0m",
      "\u001b[0;31mAttributeError\u001b[0m                            Traceback (most recent call last)",
      "Cell \u001b[0;32mIn[14], line 1\u001b[0m\n\u001b[0;32m----> 1\u001b[0m df \u001b[39m=\u001b[39m pd\u001b[39m.\u001b[39;49mread(\u001b[39m'\u001b[39m\u001b[39mSalaries.csv\u001b[39m\u001b[39m'\u001b[39m)\n",
      "\u001b[0;31mAttributeError\u001b[0m: module 'pandas' has no attribute 'read'"
     ]
    }
   ],
   "source": [
    "df = pd.read('Salaries.csv')"
   ]
  },
  {
   "cell_type": "code",
   "execution_count": 4,
   "metadata": {},
   "outputs": [
    {
     "data": {
      "text/html": [
       "<div>\n",
       "<style scoped>\n",
       "    .dataframe tbody tr th:only-of-type {\n",
       "        vertical-align: middle;\n",
       "    }\n",
       "\n",
       "    .dataframe tbody tr th {\n",
       "        vertical-align: top;\n",
       "    }\n",
       "\n",
       "    .dataframe thead th {\n",
       "        text-align: right;\n",
       "    }\n",
       "</style>\n",
       "<table border=\"1\" class=\"dataframe\">\n",
       "  <thead>\n",
       "    <tr style=\"text-align: right;\">\n",
       "      <th></th>\n",
       "      <th>Employee Name</th>\n",
       "      <th>Job Title</th>\n",
       "      <th>Base Pay</th>\n",
       "      <th>Overtime Pay</th>\n",
       "      <th>Other Pay</th>\n",
       "      <th>Benefits</th>\n",
       "      <th>Total Pay</th>\n",
       "      <th>Total Pay &amp; Benefits</th>\n",
       "      <th>Year</th>\n",
       "      <th>Status</th>\n",
       "    </tr>\n",
       "  </thead>\n",
       "  <tbody>\n",
       "    <tr>\n",
       "      <th>0</th>\n",
       "      <td>Janet Lee Miller</td>\n",
       "      <td>Court Staff Attorney II</td>\n",
       "      <td>0.0</td>\n",
       "      <td>0.0</td>\n",
       "      <td>0.0</td>\n",
       "      <td>0.0</td>\n",
       "      <td>0.00</td>\n",
       "      <td>0.00</td>\n",
       "      <td>2019</td>\n",
       "      <td>PT</td>\n",
       "    </tr>\n",
       "    <tr>\n",
       "      <th>1</th>\n",
       "      <td>Gary Mar</td>\n",
       "      <td>Electrical Transit System Mech</td>\n",
       "      <td>97354.53</td>\n",
       "      <td>6996.5</td>\n",
       "      <td>2380.0</td>\n",
       "      <td>38855.9</td>\n",
       "      <td>106731.03</td>\n",
       "      <td>145586.93</td>\n",
       "      <td>2019</td>\n",
       "      <td>FT</td>\n",
       "    </tr>\n",
       "    <tr>\n",
       "      <th>2</th>\n",
       "      <td>Checil A Salvosa</td>\n",
       "      <td>Licensed Vocational Nurse</td>\n",
       "      <td>86118.0</td>\n",
       "      <td>17212.96</td>\n",
       "      <td>7272.08</td>\n",
       "      <td>34942.38</td>\n",
       "      <td>110603.04</td>\n",
       "      <td>145545.42</td>\n",
       "      <td>2019</td>\n",
       "      <td>FT</td>\n",
       "    </tr>\n",
       "    <tr>\n",
       "      <th>3</th>\n",
       "      <td>Kristian C Smock</td>\n",
       "      <td>Stationary Eng, Sewage Plant</td>\n",
       "      <td>106816.03</td>\n",
       "      <td>0.0</td>\n",
       "      <td>0.0</td>\n",
       "      <td>38729.65</td>\n",
       "      <td>106816.03</td>\n",
       "      <td>145545.68</td>\n",
       "      <td>2019</td>\n",
       "      <td>FT</td>\n",
       "    </tr>\n",
       "    <tr>\n",
       "      <th>4</th>\n",
       "      <td>Yun Y Chang</td>\n",
       "      <td>Pharmacy Technician</td>\n",
       "      <td>94039.13</td>\n",
       "      <td>14947.99</td>\n",
       "      <td>1241.69</td>\n",
       "      <td>35330.26</td>\n",
       "      <td>110228.81</td>\n",
       "      <td>145559.07</td>\n",
       "      <td>2019</td>\n",
       "      <td>FT</td>\n",
       "    </tr>\n",
       "    <tr>\n",
       "      <th>...</th>\n",
       "      <td>...</td>\n",
       "      <td>...</td>\n",
       "      <td>...</td>\n",
       "      <td>...</td>\n",
       "      <td>...</td>\n",
       "      <td>...</td>\n",
       "      <td>...</td>\n",
       "      <td>...</td>\n",
       "      <td>...</td>\n",
       "      <td>...</td>\n",
       "    </tr>\n",
       "    <tr>\n",
       "      <th>357402</th>\n",
       "      <td>HOWARD CHUCK</td>\n",
       "      <td>CUSTODIAN</td>\n",
       "      <td>46106.73</td>\n",
       "      <td>890.49</td>\n",
       "      <td>4839.07</td>\n",
       "      <td>Not Provided</td>\n",
       "      <td>51836.29</td>\n",
       "      <td>51836.29</td>\n",
       "      <td>2011</td>\n",
       "      <td>NaN</td>\n",
       "    </tr>\n",
       "    <tr>\n",
       "      <th>357403</th>\n",
       "      <td>BING KEUNG MAK</td>\n",
       "      <td>CUSTODIAN</td>\n",
       "      <td>48472.4</td>\n",
       "      <td>1972.35</td>\n",
       "      <td>1390.5</td>\n",
       "      <td>Not Provided</td>\n",
       "      <td>51835.25</td>\n",
       "      <td>51835.25</td>\n",
       "      <td>2011</td>\n",
       "      <td>NaN</td>\n",
       "    </tr>\n",
       "    <tr>\n",
       "      <th>357404</th>\n",
       "      <td>QIN MING ZHU</td>\n",
       "      <td>CUSTODIAN</td>\n",
       "      <td>46046.29</td>\n",
       "      <td>1853.97</td>\n",
       "      <td>3934.44</td>\n",
       "      <td>Not Provided</td>\n",
       "      <td>51834.70</td>\n",
       "      <td>51834.70</td>\n",
       "      <td>2011</td>\n",
       "      <td>NaN</td>\n",
       "    </tr>\n",
       "    <tr>\n",
       "      <th>357405</th>\n",
       "      <td>JOSE ALONZO</td>\n",
       "      <td>CUSTODIAN</td>\n",
       "      <td>47798.87</td>\n",
       "      <td>0.0</td>\n",
       "      <td>4032.55</td>\n",
       "      <td>Not Provided</td>\n",
       "      <td>51831.42</td>\n",
       "      <td>51831.42</td>\n",
       "      <td>2011</td>\n",
       "      <td>NaN</td>\n",
       "    </tr>\n",
       "    <tr>\n",
       "      <th>357406</th>\n",
       "      <td>NATHANIEL FORD</td>\n",
       "      <td>GENERAL MANAGER-METROPOLITAN TRANSIT AUTHORITY</td>\n",
       "      <td>167411.18</td>\n",
       "      <td>0.0</td>\n",
       "      <td>400184.25</td>\n",
       "      <td>Not Provided</td>\n",
       "      <td>567595.43</td>\n",
       "      <td>567595.43</td>\n",
       "      <td>2011</td>\n",
       "      <td>NaN</td>\n",
       "    </tr>\n",
       "  </tbody>\n",
       "</table>\n",
       "<p>357407 rows × 10 columns</p>\n",
       "</div>"
      ],
      "text/plain": [
       "           Employee Name                                       Job Title  \\\n",
       "0       Janet Lee Miller                         Court Staff Attorney II   \n",
       "1               Gary Mar                  Electrical Transit System Mech   \n",
       "2       Checil A Salvosa                       Licensed Vocational Nurse   \n",
       "3       Kristian C Smock                    Stationary Eng, Sewage Plant   \n",
       "4            Yun Y Chang                             Pharmacy Technician   \n",
       "...                  ...                                             ...   \n",
       "357402      HOWARD CHUCK                                       CUSTODIAN   \n",
       "357403    BING KEUNG MAK                                       CUSTODIAN   \n",
       "357404      QIN MING ZHU                                       CUSTODIAN   \n",
       "357405       JOSE ALONZO                                       CUSTODIAN   \n",
       "357406    NATHANIEL FORD  GENERAL MANAGER-METROPOLITAN TRANSIT AUTHORITY   \n",
       "\n",
       "         Base Pay Overtime Pay  Other Pay      Benefits  Total Pay  \\\n",
       "0             0.0          0.0        0.0           0.0       0.00   \n",
       "1        97354.53       6996.5     2380.0       38855.9  106731.03   \n",
       "2         86118.0     17212.96    7272.08      34942.38  110603.04   \n",
       "3       106816.03          0.0        0.0      38729.65  106816.03   \n",
       "4        94039.13     14947.99    1241.69      35330.26  110228.81   \n",
       "...           ...          ...        ...           ...        ...   \n",
       "357402   46106.73       890.49    4839.07  Not Provided   51836.29   \n",
       "357403    48472.4      1972.35     1390.5  Not Provided   51835.25   \n",
       "357404   46046.29      1853.97    3934.44  Not Provided   51834.70   \n",
       "357405   47798.87          0.0    4032.55  Not Provided   51831.42   \n",
       "357406  167411.18          0.0  400184.25  Not Provided  567595.43   \n",
       "\n",
       "        Total Pay & Benefits  Year Status  \n",
       "0                       0.00  2019     PT  \n",
       "1                  145586.93  2019     FT  \n",
       "2                  145545.42  2019     FT  \n",
       "3                  145545.68  2019     FT  \n",
       "4                  145559.07  2019     FT  \n",
       "...                      ...   ...    ...  \n",
       "357402              51836.29  2011    NaN  \n",
       "357403              51835.25  2011    NaN  \n",
       "357404              51834.70  2011    NaN  \n",
       "357405              51831.42  2011    NaN  \n",
       "357406             567595.43  2011    NaN  \n",
       "\n",
       "[357407 rows x 10 columns]"
      ]
     },
     "execution_count": 4,
     "metadata": {},
     "output_type": "execute_result"
    }
   ],
   "source": [
    "df"
   ]
  },
  {
   "cell_type": "code",
   "execution_count": 5,
   "metadata": {},
   "outputs": [
    {
     "data": {
      "text/plain": [
       "(357407, 10)"
      ]
     },
     "execution_count": 5,
     "metadata": {},
     "output_type": "execute_result"
    }
   ],
   "source": [
    "df.shape"
   ]
  },
  {
   "cell_type": "code",
   "execution_count": 7,
   "metadata": {},
   "outputs": [
    {
     "name": "stdout",
     "output_type": "stream",
     "text": [
      "<class 'pandas.core.frame.DataFrame'>\n",
      "RangeIndex: 357407 entries, 0 to 357406\n",
      "Data columns (total 10 columns):\n",
      " #   Column                Non-Null Count   Dtype  \n",
      "---  ------                --------------   -----  \n",
      " 0   Employee Name         357407 non-null  object \n",
      " 1   Job Title             357407 non-null  object \n",
      " 2   Base Pay              357407 non-null  object \n",
      " 3   Overtime Pay          357407 non-null  object \n",
      " 4   Other Pay             357407 non-null  object \n",
      " 5   Benefits              357407 non-null  object \n",
      " 6   Total Pay             357407 non-null  float64\n",
      " 7   Total Pay & Benefits  357407 non-null  float64\n",
      " 8   Year                  357407 non-null  int64  \n",
      " 9   Status                205906 non-null  object \n",
      "dtypes: float64(2), int64(1), object(7)\n",
      "memory usage: 27.3+ MB\n"
     ]
    }
   ],
   "source": [
    "df.info()"
   ]
  },
  {
   "cell_type": "code",
   "execution_count": 10,
   "metadata": {},
   "outputs": [
    {
     "ename": "AttributeError",
     "evalue": "module 'pandas' has no attribute 'read'",
     "output_type": "error",
     "traceback": [
      "\u001b[0;31m---------------------------------------------------------------------------\u001b[0m",
      "\u001b[0;31mAttributeError\u001b[0m                            Traceback (most recent call last)",
      "Cell \u001b[0;32mIn[10], line 1\u001b[0m\n\u001b[0;32m----> 1\u001b[0m df \u001b[39m=\u001b[39m pd\u001b[39m.\u001b[39;49mread(\u001b[39m'\u001b[39m\u001b[39mSalaries.csv\u001b[39m\u001b[39m'\u001b[39m)\n",
      "\u001b[0;31mAttributeError\u001b[0m: module 'pandas' has no attribute 'read'"
     ]
    }
   ],
   "source": [
    "df = pd.read('Salaries.csv')"
   ]
  },
  {
   "cell_type": "code",
   "execution_count": null,
   "metadata": {},
   "outputs": [],
   "source": []
  }
 ],
 "metadata": {
  "kernelspec": {
   "display_name": "Python 3",
   "language": "python",
   "name": "python3"
  },
  "language_info": {
   "codemirror_mode": {
    "name": "ipython",
    "version": 3
   },
   "file_extension": ".py",
   "mimetype": "text/x-python",
   "name": "python",
   "nbconvert_exporter": "python",
   "pygments_lexer": "ipython3",
   "version": "3.11.2"
  },
  "orig_nbformat": 4
 },
 "nbformat": 4,
 "nbformat_minor": 2
}
